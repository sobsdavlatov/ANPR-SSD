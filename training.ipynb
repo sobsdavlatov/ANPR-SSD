{
 "cells": [
  {
   "attachments": {},
   "cell_type": "markdown",
   "metadata": {},
   "source": [
    "### Import dependecies"
   ]
  },
  {
   "cell_type": "code",
   "execution_count": 3,
   "metadata": {},
   "outputs": [],
   "source": [
    "import tensorflow as tf \n",
    "from functools import partial\n",
    "from preprocess import X_train, y_train, X_valid, y_valid, X_test, y_test"
   ]
  },
  {
   "attachments": {},
   "cell_type": "markdown",
   "metadata": {},
   "source": [
    "### Define Fully connected convulltional neural network architecture"
   ]
  },
  {
   "cell_type": "code",
   "execution_count": 6,
   "metadata": {},
   "outputs": [],
   "source": [
    "#Initial hyperparameters\n",
    "BATCH_SIZE = 8\n",
    "NUM_EPOCHS = 100\n",
    "OPTIMIZER = tf.keras.optimizers.Adam(learning_rate=0.001)"
   ]
  },
  {
   "cell_type": "code",
   "execution_count": 4,
   "metadata": {},
   "outputs": [],
   "source": [
    "#Wrap layers for convinient use\n",
    "Conv2D = partial(tf.keras.layers.Conv2D, kernel_size = (3,3), padding = \"SAME\", activation = 'relu')\n",
    "MaxPool2D = partial(tf.keras.layers.MaxPool2D, pool_size = (2,2), strides = (2,2))\n"
   ]
  },
  {
   "cell_type": "code",
   "execution_count": 5,
   "metadata": {},
   "outputs": [],
   "source": [
    "model = tf.keras.Sequential([\n",
    "    Conv2D(filters = 64, input_shape = (224, 224, 3)),\n",
    "    Conv2D(filters = 64),\n",
    "    MaxPool2D(),\n",
    "    Conv2D(filters = 128), \n",
    "    Conv2D(filters = 128), \n",
    "    MaxPool2D(),\n",
    "    Conv2D(filters = 256), \n",
    "    Conv2D(filters = 256),\n",
    "    Conv2D(filters = 256),\n",
    "    MaxPool2D(),\n",
    "    Conv2D(filters = 512),\n",
    "    Conv2D(filters = 512),\n",
    "    Conv2D(filters = 512),\n",
    "    MaxPool2D(),\n",
    "    Conv2D(filters = 512),\n",
    "    Conv2D(filters = 512),\n",
    "    Conv2D(filters = 512),\n",
    "    MaxPool2D(), \n",
    "    tf.keras.layers.Dense(128, activation= 'relu'),\n",
    "    tf.keras.layers.Dense(64, activation = 'relu'),\n",
    "    tf.keras.layers.Dense(32, activation = 'relu'),\n",
    "    tf.keras.layers.Dense(4, activation = 'softmax')\n",
    "\n",
    "])"
   ]
  },
  {
   "cell_type": "code",
   "execution_count": 7,
   "metadata": {},
   "outputs": [],
   "source": [
    "#Compiling the model\n",
    "model.compile(loss = 'mse', optimizer=OPTIMIZER)"
   ]
  },
  {
   "cell_type": "code",
   "execution_count": null,
   "metadata": {},
   "outputs": [],
   "source": [
    "history = model.fit(X_train, y_train, validation_data=(X_valid, y_valid) epochs=NUM_EPOCHS, batch_size=BATCH_SIZE)"
   ]
  }
 ],
 "metadata": {
  "kernelspec": {
   "display_name": "ANPR",
   "language": "python",
   "name": "python3"
  },
  "language_info": {
   "codemirror_mode": {
    "name": "ipython",
    "version": 3
   },
   "file_extension": ".py",
   "mimetype": "text/x-python",
   "name": "python",
   "nbconvert_exporter": "python",
   "pygments_lexer": "ipython3",
   "version": "3.9.16"
  },
  "orig_nbformat": 4
 },
 "nbformat": 4,
 "nbformat_minor": 2
}
